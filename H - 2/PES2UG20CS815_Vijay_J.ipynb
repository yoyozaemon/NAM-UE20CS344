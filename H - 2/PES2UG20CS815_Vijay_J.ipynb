{
  "nbformat": 4,
  "nbformat_minor": 0,
  "metadata": {
    "colab": {
      "provenance": []
    },
    "kernelspec": {
      "name": "python3",
      "display_name": "Python 3"
    },
    "language_info": {
      "name": "python"
    }
  },
  "cells": [
    {
      "cell_type": "code",
      "execution_count": 1,
      "metadata": {
        "id": "9m1wBzoTZazm"
      },
      "outputs": [],
      "source": [
        "import networkx as nx\n",
        "G = nx.florentine_families_graph()\n"
      ]
    },
    {
      "cell_type": "code",
      "source": [
        "# Nodes as tuples of nodes and edge attributes\n",
        "list(G.edges(data=True))"
      ],
      "metadata": {
        "colab": {
          "base_uri": "https://localhost:8080/"
        },
        "id": "rMy8dKktZo5r",
        "outputId": "c520d981-922f-4445-e097-33112b5ecc60"
      },
      "execution_count": 2,
      "outputs": [
        {
          "output_type": "execute_result",
          "data": {
            "text/plain": [
              "[('Acciaiuoli', 'Medici', {}),\n",
              " ('Medici', 'Barbadori', {}),\n",
              " ('Medici', 'Ridolfi', {}),\n",
              " ('Medici', 'Tornabuoni', {}),\n",
              " ('Medici', 'Albizzi', {}),\n",
              " ('Medici', 'Salviati', {}),\n",
              " ('Castellani', 'Peruzzi', {}),\n",
              " ('Castellani', 'Strozzi', {}),\n",
              " ('Castellani', 'Barbadori', {}),\n",
              " ('Peruzzi', 'Strozzi', {}),\n",
              " ('Peruzzi', 'Bischeri', {}),\n",
              " ('Strozzi', 'Ridolfi', {}),\n",
              " ('Strozzi', 'Bischeri', {}),\n",
              " ('Ridolfi', 'Tornabuoni', {}),\n",
              " ('Tornabuoni', 'Guadagni', {}),\n",
              " ('Albizzi', 'Ginori', {}),\n",
              " ('Albizzi', 'Guadagni', {}),\n",
              " ('Salviati', 'Pazzi', {}),\n",
              " ('Bischeri', 'Guadagni', {}),\n",
              " ('Guadagni', 'Lamberteschi', {})]"
            ]
          },
          "metadata": {},
          "execution_count": 2
        }
      ]
    },
    {
      "cell_type": "code",
      "source": [
        "s='\\n The graph details: '\n",
        "print (s)\n",
        "\n",
        "\n",
        "a=G.number_of_nodes()\n",
        "s='\\n The no of nodes: ' +repr(a)\n",
        "######################################################################\n",
        "#      DETAILS ABOUT THE GRAPH -- this is NOT really analysis\n",
        "#######################################################################\n",
        "\n",
        "a=G.number_of_nodes()\n",
        "s='\\n The no of nodes: ' +repr(a)\n",
        "######################################################################\n",
        "#      DETAILS ABOUT THE GRAPH -- this is NOT really analysis\n",
        "#######################################################################\n",
        "\n",
        "a=G.number_of_nodes()\n",
        "s='\\n The no of nodes: ' +repr(a)\n",
        "print (s)\n",
        "\n",
        "a= G.number_of_edges()\n",
        "s='\\n The no of edges: ' +repr(a)\n",
        "print (s)\n",
        "\n",
        "deg=nx.degree(G)\n",
        "a= min(deg)\n",
        "s='\\n The min degree: ' +repr(a)\n",
        "print (s)\n",
        "\n",
        "a = max(deg)\n",
        "s='\\n The max degree: ' +repr(a)\n",
        "print (s)\n",
        "\n",
        "a= G.number_of_edges()\n",
        "s='\\n The no of edges: ' +repr(a)\n",
        "print (s)\n",
        "\n"
      ],
      "metadata": {
        "colab": {
          "base_uri": "https://localhost:8080/"
        },
        "id": "Utl02AJHZxRD",
        "outputId": "3ea2e759-acac-48a4-a6e3-4ed763d8c989"
      },
      "execution_count": 3,
      "outputs": [
        {
          "output_type": "stream",
          "name": "stdout",
          "text": [
            "\n",
            " The graph details: \n",
            "\n",
            " The no of nodes: 15\n",
            "\n",
            " The no of edges: 20\n",
            "\n",
            " The min degree: ('Acciaiuoli', 1)\n",
            "\n",
            " The max degree: ('Tornabuoni', 3)\n",
            "\n",
            " The no of edges: 20\n"
          ]
        }
      ]
    },
    {
      "cell_type": "code",
      "source": [
        "from operator import itemgetter\n",
        "degc = nx.degree_centrality(G)\n",
        "# let's list the scores\n",
        "sorted(degc.items(), key=itemgetter(1), reverse=True)"
      ],
      "metadata": {
        "colab": {
          "base_uri": "https://localhost:8080/"
        },
        "id": "VAqraZoKZ73a",
        "outputId": "703b7f7c-d131-4229-ea8e-086dfa2569dd"
      },
      "execution_count": 4,
      "outputs": [
        {
          "output_type": "execute_result",
          "data": {
            "text/plain": [
              "[('Medici', 0.42857142857142855),\n",
              " ('Strozzi', 0.2857142857142857),\n",
              " ('Guadagni', 0.2857142857142857),\n",
              " ('Castellani', 0.21428571428571427),\n",
              " ('Peruzzi', 0.21428571428571427),\n",
              " ('Ridolfi', 0.21428571428571427),\n",
              " ('Tornabuoni', 0.21428571428571427),\n",
              " ('Albizzi', 0.21428571428571427),\n",
              " ('Bischeri', 0.21428571428571427),\n",
              " ('Barbadori', 0.14285714285714285),\n",
              " ('Salviati', 0.14285714285714285),\n",
              " ('Acciaiuoli', 0.07142857142857142),\n",
              " ('Pazzi', 0.07142857142857142),\n",
              " ('Ginori', 0.07142857142857142),\n",
              " ('Lamberteschi', 0.07142857142857142)]"
            ]
          },
          "metadata": {},
          "execution_count": 4
        }
      ]
    },
    {
      "cell_type": "code",
      "source": [
        "bet = nx.betweenness_centrality(G)\n",
        "# let's list the scores\n",
        "sorted(bet.items(), key=itemgetter(1), reverse=True)"
      ],
      "metadata": {
        "colab": {
          "base_uri": "https://localhost:8080/"
        },
        "id": "rPzlbyuTaXvy",
        "outputId": "881a4ad6-5867-42a6-b371-946712d25fb9"
      },
      "execution_count": 5,
      "outputs": [
        {
          "output_type": "execute_result",
          "data": {
            "text/plain": [
              "[('Medici', 0.521978021978022),\n",
              " ('Guadagni', 0.2545787545787546),\n",
              " ('Albizzi', 0.21245421245421245),\n",
              " ('Salviati', 0.14285714285714288),\n",
              " ('Ridolfi', 0.11355311355311355),\n",
              " ('Bischeri', 0.1043956043956044),\n",
              " ('Strozzi', 0.10256410256410257),\n",
              " ('Barbadori', 0.09340659340659341),\n",
              " ('Tornabuoni', 0.09157509157509157),\n",
              " ('Castellani', 0.05494505494505495),\n",
              " ('Peruzzi', 0.02197802197802198),\n",
              " ('Acciaiuoli', 0.0),\n",
              " ('Pazzi', 0.0),\n",
              " ('Ginori', 0.0),\n",
              " ('Lamberteschi', 0.0)]"
            ]
          },
          "metadata": {},
          "execution_count": 5
        }
      ]
    },
    {
      "cell_type": "code",
      "source": [
        "clos = nx.closeness_centrality(G)\n",
        "# let's list the scores\n",
        "sorted(clos.items(), key=itemgetter(1), reverse=True)\n"
      ],
      "metadata": {
        "colab": {
          "base_uri": "https://localhost:8080/"
        },
        "id": "Wj95foayapfI",
        "outputId": "eb114743-2cdc-41fe-da77-722339d01c47"
      },
      "execution_count": 6,
      "outputs": [
        {
          "output_type": "execute_result",
          "data": {
            "text/plain": [
              "[('Medici', 0.56),\n",
              " ('Ridolfi', 0.5),\n",
              " ('Tornabuoni', 0.4827586206896552),\n",
              " ('Albizzi', 0.4827586206896552),\n",
              " ('Guadagni', 0.4666666666666667),\n",
              " ('Strozzi', 0.4375),\n",
              " ('Barbadori', 0.4375),\n",
              " ('Bischeri', 0.4),\n",
              " ('Castellani', 0.3888888888888889),\n",
              " ('Salviati', 0.3888888888888889),\n",
              " ('Acciaiuoli', 0.3684210526315789),\n",
              " ('Peruzzi', 0.3684210526315789),\n",
              " ('Ginori', 0.3333333333333333),\n",
              " ('Lamberteschi', 0.32558139534883723),\n",
              " ('Pazzi', 0.2857142857142857)]"
            ]
          },
          "metadata": {},
          "execution_count": 6
        }
      ]
    },
    {
      "cell_type": "code",
      "source": [
        "eig = nx.eigenvector_centrality(G)\n",
        "# let's list the scores\n",
        "sorted(eig.items(), key=itemgetter(1), reverse=True)\n"
      ],
      "metadata": {
        "colab": {
          "base_uri": "https://localhost:8080/"
        },
        "id": "cWGM4ulmavJ8",
        "outputId": "e416812f-5278-4551-f5a8-2d1fc9344675"
      },
      "execution_count": 7,
      "outputs": [
        {
          "output_type": "execute_result",
          "data": {
            "text/plain": [
              "[('Medici', 0.4303154258349922),\n",
              " ('Strozzi', 0.355973032646045),\n",
              " ('Ridolfi', 0.34155442590743645),\n",
              " ('Tornabuoni', 0.32584670416957395),\n",
              " ('Guadagni', 0.2891171573226501),\n",
              " ('Bischeri', 0.2827943958713356),\n",
              " ('Peruzzi', 0.2757224374104833),\n",
              " ('Castellani', 0.2590200378423514),\n",
              " ('Albizzi', 0.24396052967544765),\n",
              " ('Barbadori', 0.21170574706479844),\n",
              " ('Salviati', 0.1459208416417183),\n",
              " ('Acciaiuoli', 0.13215731952853418),\n",
              " ('Lamberteschi', 0.08879253113499548),\n",
              " ('Ginori', 0.0749245316027793),\n",
              " ('Pazzi', 0.04481493970386308)]"
            ]
          },
          "metadata": {},
          "execution_count": 7
        }
      ]
    },
    {
      "cell_type": "markdown",
      "source": [
        "Comparing Centrality"
      ],
      "metadata": {
        "id": "4F4lDpeUa6SS"
      }
    },
    {
      "cell_type": "code",
      "source": [
        "import pandas as pd\n",
        "import seaborn as sns\n",
        "centrality_measures = {\n",
        "    'degree': degc,\n",
        "    'betweenness': bet,\n",
        "    'closeness': clos,\n",
        "    'eigenvector': eig,\n",
        "}\n",
        "centrality = pd.DataFrame(centrality_measures)\n",
        "centrality"
      ],
      "metadata": {
        "colab": {
          "base_uri": "https://localhost:8080/",
          "height": 520
        },
        "id": "1enOwm0Oa2Me",
        "outputId": "18f1418c-ef1f-4013-ee2d-a60b3aa02e21"
      },
      "execution_count": 8,
      "outputs": [
        {
          "output_type": "execute_result",
          "data": {
            "text/plain": [
              "                degree  betweenness  closeness  eigenvector\n",
              "Acciaiuoli    0.071429     0.000000   0.368421     0.132157\n",
              "Medici        0.428571     0.521978   0.560000     0.430315\n",
              "Castellani    0.214286     0.054945   0.388889     0.259020\n",
              "Peruzzi       0.214286     0.021978   0.368421     0.275722\n",
              "Strozzi       0.285714     0.102564   0.437500     0.355973\n",
              "Barbadori     0.142857     0.093407   0.437500     0.211706\n",
              "Ridolfi       0.214286     0.113553   0.500000     0.341554\n",
              "Tornabuoni    0.214286     0.091575   0.482759     0.325847\n",
              "Albizzi       0.214286     0.212454   0.482759     0.243961\n",
              "Salviati      0.142857     0.142857   0.388889     0.145921\n",
              "Pazzi         0.071429     0.000000   0.285714     0.044815\n",
              "Bischeri      0.214286     0.104396   0.400000     0.282794\n",
              "Guadagni      0.285714     0.254579   0.466667     0.289117\n",
              "Ginori        0.071429     0.000000   0.333333     0.074925\n",
              "Lamberteschi  0.071429     0.000000   0.325581     0.088793"
            ],
            "text/html": [
              "\n",
              "  <div id=\"df-c3b63dcc-c4b5-48c7-aaac-41b9ed929564\">\n",
              "    <div class=\"colab-df-container\">\n",
              "      <div>\n",
              "<style scoped>\n",
              "    .dataframe tbody tr th:only-of-type {\n",
              "        vertical-align: middle;\n",
              "    }\n",
              "\n",
              "    .dataframe tbody tr th {\n",
              "        vertical-align: top;\n",
              "    }\n",
              "\n",
              "    .dataframe thead th {\n",
              "        text-align: right;\n",
              "    }\n",
              "</style>\n",
              "<table border=\"1\" class=\"dataframe\">\n",
              "  <thead>\n",
              "    <tr style=\"text-align: right;\">\n",
              "      <th></th>\n",
              "      <th>degree</th>\n",
              "      <th>betweenness</th>\n",
              "      <th>closeness</th>\n",
              "      <th>eigenvector</th>\n",
              "    </tr>\n",
              "  </thead>\n",
              "  <tbody>\n",
              "    <tr>\n",
              "      <th>Acciaiuoli</th>\n",
              "      <td>0.071429</td>\n",
              "      <td>0.000000</td>\n",
              "      <td>0.368421</td>\n",
              "      <td>0.132157</td>\n",
              "    </tr>\n",
              "    <tr>\n",
              "      <th>Medici</th>\n",
              "      <td>0.428571</td>\n",
              "      <td>0.521978</td>\n",
              "      <td>0.560000</td>\n",
              "      <td>0.430315</td>\n",
              "    </tr>\n",
              "    <tr>\n",
              "      <th>Castellani</th>\n",
              "      <td>0.214286</td>\n",
              "      <td>0.054945</td>\n",
              "      <td>0.388889</td>\n",
              "      <td>0.259020</td>\n",
              "    </tr>\n",
              "    <tr>\n",
              "      <th>Peruzzi</th>\n",
              "      <td>0.214286</td>\n",
              "      <td>0.021978</td>\n",
              "      <td>0.368421</td>\n",
              "      <td>0.275722</td>\n",
              "    </tr>\n",
              "    <tr>\n",
              "      <th>Strozzi</th>\n",
              "      <td>0.285714</td>\n",
              "      <td>0.102564</td>\n",
              "      <td>0.437500</td>\n",
              "      <td>0.355973</td>\n",
              "    </tr>\n",
              "    <tr>\n",
              "      <th>Barbadori</th>\n",
              "      <td>0.142857</td>\n",
              "      <td>0.093407</td>\n",
              "      <td>0.437500</td>\n",
              "      <td>0.211706</td>\n",
              "    </tr>\n",
              "    <tr>\n",
              "      <th>Ridolfi</th>\n",
              "      <td>0.214286</td>\n",
              "      <td>0.113553</td>\n",
              "      <td>0.500000</td>\n",
              "      <td>0.341554</td>\n",
              "    </tr>\n",
              "    <tr>\n",
              "      <th>Tornabuoni</th>\n",
              "      <td>0.214286</td>\n",
              "      <td>0.091575</td>\n",
              "      <td>0.482759</td>\n",
              "      <td>0.325847</td>\n",
              "    </tr>\n",
              "    <tr>\n",
              "      <th>Albizzi</th>\n",
              "      <td>0.214286</td>\n",
              "      <td>0.212454</td>\n",
              "      <td>0.482759</td>\n",
              "      <td>0.243961</td>\n",
              "    </tr>\n",
              "    <tr>\n",
              "      <th>Salviati</th>\n",
              "      <td>0.142857</td>\n",
              "      <td>0.142857</td>\n",
              "      <td>0.388889</td>\n",
              "      <td>0.145921</td>\n",
              "    </tr>\n",
              "    <tr>\n",
              "      <th>Pazzi</th>\n",
              "      <td>0.071429</td>\n",
              "      <td>0.000000</td>\n",
              "      <td>0.285714</td>\n",
              "      <td>0.044815</td>\n",
              "    </tr>\n",
              "    <tr>\n",
              "      <th>Bischeri</th>\n",
              "      <td>0.214286</td>\n",
              "      <td>0.104396</td>\n",
              "      <td>0.400000</td>\n",
              "      <td>0.282794</td>\n",
              "    </tr>\n",
              "    <tr>\n",
              "      <th>Guadagni</th>\n",
              "      <td>0.285714</td>\n",
              "      <td>0.254579</td>\n",
              "      <td>0.466667</td>\n",
              "      <td>0.289117</td>\n",
              "    </tr>\n",
              "    <tr>\n",
              "      <th>Ginori</th>\n",
              "      <td>0.071429</td>\n",
              "      <td>0.000000</td>\n",
              "      <td>0.333333</td>\n",
              "      <td>0.074925</td>\n",
              "    </tr>\n",
              "    <tr>\n",
              "      <th>Lamberteschi</th>\n",
              "      <td>0.071429</td>\n",
              "      <td>0.000000</td>\n",
              "      <td>0.325581</td>\n",
              "      <td>0.088793</td>\n",
              "    </tr>\n",
              "  </tbody>\n",
              "</table>\n",
              "</div>\n",
              "      <button class=\"colab-df-convert\" onclick=\"convertToInteractive('df-c3b63dcc-c4b5-48c7-aaac-41b9ed929564')\"\n",
              "              title=\"Convert this dataframe to an interactive table.\"\n",
              "              style=\"display:none;\">\n",
              "        \n",
              "  <svg xmlns=\"http://www.w3.org/2000/svg\" height=\"24px\"viewBox=\"0 0 24 24\"\n",
              "       width=\"24px\">\n",
              "    <path d=\"M0 0h24v24H0V0z\" fill=\"none\"/>\n",
              "    <path d=\"M18.56 5.44l.94 2.06.94-2.06 2.06-.94-2.06-.94-.94-2.06-.94 2.06-2.06.94zm-11 1L8.5 8.5l.94-2.06 2.06-.94-2.06-.94L8.5 2.5l-.94 2.06-2.06.94zm10 10l.94 2.06.94-2.06 2.06-.94-2.06-.94-.94-2.06-.94 2.06-2.06.94z\"/><path d=\"M17.41 7.96l-1.37-1.37c-.4-.4-.92-.59-1.43-.59-.52 0-1.04.2-1.43.59L10.3 9.45l-7.72 7.72c-.78.78-.78 2.05 0 2.83L4 21.41c.39.39.9.59 1.41.59.51 0 1.02-.2 1.41-.59l7.78-7.78 2.81-2.81c.8-.78.8-2.07 0-2.86zM5.41 20L4 18.59l7.72-7.72 1.47 1.35L5.41 20z\"/>\n",
              "  </svg>\n",
              "      </button>\n",
              "      \n",
              "  <style>\n",
              "    .colab-df-container {\n",
              "      display:flex;\n",
              "      flex-wrap:wrap;\n",
              "      gap: 12px;\n",
              "    }\n",
              "\n",
              "    .colab-df-convert {\n",
              "      background-color: #E8F0FE;\n",
              "      border: none;\n",
              "      border-radius: 50%;\n",
              "      cursor: pointer;\n",
              "      display: none;\n",
              "      fill: #1967D2;\n",
              "      height: 32px;\n",
              "      padding: 0 0 0 0;\n",
              "      width: 32px;\n",
              "    }\n",
              "\n",
              "    .colab-df-convert:hover {\n",
              "      background-color: #E2EBFA;\n",
              "      box-shadow: 0px 1px 2px rgba(60, 64, 67, 0.3), 0px 1px 3px 1px rgba(60, 64, 67, 0.15);\n",
              "      fill: #174EA6;\n",
              "    }\n",
              "\n",
              "    [theme=dark] .colab-df-convert {\n",
              "      background-color: #3B4455;\n",
              "      fill: #D2E3FC;\n",
              "    }\n",
              "\n",
              "    [theme=dark] .colab-df-convert:hover {\n",
              "      background-color: #434B5C;\n",
              "      box-shadow: 0px 1px 3px 1px rgba(0, 0, 0, 0.15);\n",
              "      filter: drop-shadow(0px 1px 2px rgba(0, 0, 0, 0.3));\n",
              "      fill: #FFFFFF;\n",
              "    }\n",
              "  </style>\n",
              "\n",
              "      <script>\n",
              "        const buttonEl =\n",
              "          document.querySelector('#df-c3b63dcc-c4b5-48c7-aaac-41b9ed929564 button.colab-df-convert');\n",
              "        buttonEl.style.display =\n",
              "          google.colab.kernel.accessAllowed ? 'block' : 'none';\n",
              "\n",
              "        async function convertToInteractive(key) {\n",
              "          const element = document.querySelector('#df-c3b63dcc-c4b5-48c7-aaac-41b9ed929564');\n",
              "          const dataTable =\n",
              "            await google.colab.kernel.invokeFunction('convertToInteractive',\n",
              "                                                     [key], {});\n",
              "          if (!dataTable) return;\n",
              "\n",
              "          const docLinkHtml = 'Like what you see? Visit the ' +\n",
              "            '<a target=\"_blank\" href=https://colab.research.google.com/notebooks/data_table.ipynb>data table notebook</a>'\n",
              "            + ' to learn more about interactive tables.';\n",
              "          element.innerHTML = '';\n",
              "          dataTable['output_type'] = 'display_data';\n",
              "          await google.colab.output.renderOutput(dataTable, element);\n",
              "          const docLink = document.createElement('div');\n",
              "          docLink.innerHTML = docLinkHtml;\n",
              "          element.appendChild(docLink);\n",
              "        }\n",
              "      </script>\n",
              "    </div>\n",
              "  </div>\n",
              "  "
            ]
          },
          "metadata": {},
          "execution_count": 8
        }
      ]
    },
    {
      "cell_type": "code",
      "source": [
        "sns.pairplot(centrality)\n"
      ],
      "metadata": {
        "colab": {
          "base_uri": "https://localhost:8080/",
          "height": 744
        },
        "id": "FFQgJGvkbBuR",
        "outputId": "8e95fa25-a9ff-412f-9464-b62b4b565f17"
      },
      "execution_count": 9,
      "outputs": [
        {
          "output_type": "execute_result",
          "data": {
            "text/plain": [
              "<seaborn.axisgrid.PairGrid at 0x7fae216a4340>"
            ]
          },
          "metadata": {},
          "execution_count": 9
        },
        {
          "output_type": "display_data",
          "data": {
            "text/plain": [
              "<Figure size 720x720 with 20 Axes>"
            ],
            "image/png": "[encoded data removed]"
          },
          "metadata": {
            "needs_background": "light"
          }
        }
      ]
    },
    {
      "cell_type": "code",
      "source": [
        "G = nx.florentine_families_graph()"
      ],
      "metadata": {
        "id": "FYKuE7X0cKkz"
      },
      "execution_count": 10,
      "outputs": []
    },
    {
      "cell_type": "code",
      "source": [
        "pos_spring = nx.spring_layout(G)\n",
        "pos_fr = nx.fruchterman_reingold_layout(G)"
      ],
      "metadata": {
        "id": "gUreqg2uc03c"
      },
      "execution_count": 11,
      "outputs": []
    },
    {
      "cell_type": "code",
      "source": [
        "\n",
        "nx.draw(G, pos=pos_fr, node_size=300, node_color='red', with_labels=True)"
      ],
      "metadata": {
        "colab": {
          "base_uri": "https://localhost:8080/",
          "height": 319
        },
        "id": "ptNWis3idLnz",
        "outputId": "9ffc9c98-e87b-4636-dc3a-335135039c6d"
      },
      "execution_count": 12,
      "outputs": [
        {
          "output_type": "display_data",
          "data": {
            "text/plain": [
              "<Figure size 432x288 with 1 Axes>"
            ],
            "image/png": "[encoded data removed]"
          },
          "metadata": {}
        }
      ]
    },
    {
      "cell_type": "code",
      "source": [
        "source = 'Medici'\n",
        "target = 'Peruzzi'\n",
        "nx.shortest_path(G, source, target)"
      ],
      "metadata": {
        "colab": {
          "base_uri": "https://localhost:8080/"
        },
        "id": "DJW2My1Idji6",
        "outputId": "42b569e9-530c-4e6e-9e11-5360229d19f8"
      },
      "execution_count": 13,
      "outputs": [
        {
          "output_type": "execute_result",
          "data": {
            "text/plain": [
              "['Medici', 'Barbadori', 'Castellani', 'Peruzzi']"
            ]
          },
          "metadata": {},
          "execution_count": 13
        }
      ]
    },
    {
      "cell_type": "code",
      "source": [
        "\n",
        "list(nx.all_shortest_paths(G, source, target))"
      ],
      "metadata": {
        "colab": {
          "base_uri": "https://localhost:8080/"
        },
        "id": "RAD-wFO7dqNZ",
        "outputId": "bd439f16-02c1-450d-e067-f538f5f3c18e"
      },
      "execution_count": 14,
      "outputs": [
        {
          "output_type": "execute_result",
          "data": {
            "text/plain": [
              "[['Medici', 'Barbadori', 'Castellani', 'Peruzzi'],\n",
              " ['Medici', 'Ridolfi', 'Strozzi', 'Peruzzi']]"
            ]
          },
          "metadata": {},
          "execution_count": 14
        }
      ]
    },
    {
      "cell_type": "code",
      "source": [
        "def plot_paths(G, paths):\n",
        "    \n",
        "    pos = nx.fruchterman_reingold_layout(G)\n",
        "    nx.draw_networkx_nodes(G, pos=pos, node_size=3000, node_color='yellow')\n",
        "    nx.draw_networkx_labels(G, pos=pos, labels={n: n for n in G})\n",
        "    # Draw edges\n",
        "    nx.draw_networkx_edges(G, pos=pos)\n",
        "    for path in paths:\n",
        "        edges = list(zip(path, path[1:]))\n",
        "        nx.draw_networkx_edges(G, pos=pos, edgelist=edges, edge_color='red', width=3)\n",
        "   \n",
        "   \n",
        "   "
      ],
      "metadata": {
        "id": "6wluV09UeCdC"
      },
      "execution_count": 15,
      "outputs": []
    },
    {
      "cell_type": "code",
      "source": [
        "plot_paths(G, [nx.shortest_path(G, source, target)])"
      ],
      "metadata": {
        "colab": {
          "base_uri": "https://localhost:8080/",
          "height": 248
        },
        "id": "qhbznQLJek2g",
        "outputId": "4a748611-8224-49c6-9b27-e27316dfefde"
      },
      "execution_count": 16,
      "outputs": [
        {
          "output_type": "display_data",
          "data": {
            "text/plain": [
              "<Figure size 432x288 with 1 Axes>"
            ],
            "image/png": "[encoded data removed]"
          },
          "metadata": {}
        }
      ]
    },
    {
      "cell_type": "code",
      "source": [
        "N,K = G.order(), G.size()\n",
        "avg_deg = float(K)/N\n",
        "print (\"Nodes: \", N)\n",
        "print (\"Edges: \", K)\n",
        "print (\"Average degree: \", avg_deg)\n"
      ],
      "metadata": {
        "colab": {
          "base_uri": "https://localhost:8080/"
        },
        "id": "TbESQOZqfC3R",
        "outputId": "b73d0120-9398-4c21-a52c-119314ca26f1"
      },
      "execution_count": 17,
      "outputs": [
        {
          "output_type": "stream",
          "name": "stdout",
          "text": [
            "Nodes:  15\n",
            "Edges:  20\n",
            "Average degree:  1.3333333333333333\n"
          ]
        }
      ]
    },
    {
      "cell_type": "markdown",
      "source": [
        "ego network"
      ],
      "metadata": {
        "id": "ZanE6uK6fXQY"
      }
    },
    {
      "cell_type": "code",
      "source": [
        "s='Medici'\n",
        "#u = unicode(s, \"utf-8\")\n",
        "hub_ego=nx.ego_graph(G,s)\n",
        "# Draw graph\n",
        "pos=nx.spring_layout(hub_ego)\n",
        "nx.draw(hub_ego,pos,node_color='b',node_size=50,with_labels=True)\n",
        "# Draw ego as large and red\n",
        "#nx.draw_networkx_nodes(hub_ego,pos,with_labels = True,nodelist=[largest_hub],node_size=300,node_color='r')\n",
        "\n",
        "nx.write_gml(hub_ego,\"egonw_medici.gml\")\n"
      ],
      "metadata": {
        "colab": {
          "base_uri": "https://localhost:8080/",
          "height": 319
        },
        "id": "Vd86UMWdelti",
        "outputId": "5b46b117-b19a-4111-da35-4a6b74fdcbf3"
      },
      "execution_count": 18,
      "outputs": [
        {
          "output_type": "display_data",
          "data": {
            "text/plain": [
              "<Figure size 432x288 with 1 Axes>"
            ],
            "image/png": "[encoded data removed]"
          },
          "metadata": {}
        }
      ]
    }
  ]
}