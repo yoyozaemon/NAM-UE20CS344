{
  "nbformat": 4,
  "nbformat_minor": 0,
  "metadata": {
    "colab": {
      "provenance": []
    },
    "kernelspec": {
      "name": "python3",
      "display_name": "Python 3"
    },
    "language_info": {
      "name": "python"
    }
  },
  "cells": [
    {
      "cell_type": "markdown",
      "source": [
        "**Installing Networkx**"
      ],
      "metadata": {
        "id": "H9zTk_FY6ePq"
      }
    },
    {
      "cell_type": "code",
      "execution_count": 1,
      "metadata": {
        "colab": {
          "base_uri": "https://localhost:8080/"
        },
        "id": "IImPizEE5Hoa",
        "outputId": "8d302301-c02d-4247-c71e-8a2025e5bb10"
      },
      "outputs": [
        {
          "output_type": "stream",
          "name": "stdout",
          "text": [
            "Looking in indexes: https://pypi.org/simple, https://us-python.pkg.dev/colab-wheels/public/simple/\n",
            "Requirement already satisfied: networkx in /usr/local/lib/python3.8/dist-packages (3.0)\n"
          ]
        }
      ],
      "source": [
        "!pip install networkx"
      ]
    },
    {
      "cell_type": "markdown",
      "source": [
        "**Importing Library**"
      ],
      "metadata": {
        "id": "UCosBbzZ6mXA"
      }
    },
    {
      "cell_type": "code",
      "source": [
        "import networkx as nx"
      ],
      "metadata": {
        "id": "cDN7zYj-5VBn"
      },
      "execution_count": 35,
      "outputs": []
    },
    {
      "cell_type": "code",
      "source": [
        "print(nx.__version__)"
      ],
      "metadata": {
        "colab": {
          "base_uri": "https://localhost:8080/"
        },
        "id": "Bustk-0P58It",
        "outputId": "e8e1f796-7b82-4ccd-ca0e-68a043ab546e"
      },
      "execution_count": 6,
      "outputs": [
        {
          "output_type": "stream",
          "name": "stdout",
          "text": [
            "3.0\n"
          ]
        }
      ]
    },
    {
      "cell_type": "markdown",
      "source": [
        "### **Undirected Graph**"
      ],
      "metadata": {
        "id": "0FEyhOaY6sOQ"
      }
    },
    {
      "cell_type": "code",
      "source": [
        "G = nx.Graph()\n",
        "G.add_node(\"A\")\n",
        "G.add_node(\"B\")\n",
        "G.add_node(\"C\")\n",
        "G.add_node(\"D\")\n",
        "\n",
        "pos = nx.spring_layout(G)\n",
        "nx.draw(G,pos, node_color = \"red\", node_size = 800, with_labels = True)"
      ],
      "metadata": {
        "colab": {
          "base_uri": "https://localhost:8080/",
          "height": 319
        },
        "id": "o4XwooIW52DW",
        "outputId": "52cbbc9f-e417-4f1f-9ff0-b46078ff5e5a"
      },
      "execution_count": 8,
      "outputs": [
        {
          "output_type": "display_data",
          "data": {
            "text/plain": [
              "<Figure size 432x288 with 1 Axes>"
            ],
            "image/png": "[encoded data removed]"
          },
          "metadata": {}
        }
      ]
    },
    {
      "cell_type": "code",
      "source": [
        "#adding edges\n",
        "G.add_edge(\"A\",\"B\")\n",
        "G.add_edge(\"B\",\"C\")\n",
        "G.add_edge(\"C\",\"D\")\n",
        "\n",
        "pos = nx.spring_layout(G)\n",
        "nx.draw(G,pos, node_color = \"red\", node_size = 800, with_labels = True)"
      ],
      "metadata": {
        "colab": {
          "base_uri": "https://localhost:8080/",
          "height": 319
        },
        "id": "N5B_VkLF7WDI",
        "outputId": "ef3e3e15-4b8b-4c60-f938-65e8c9d4ec57"
      },
      "execution_count": 23,
      "outputs": [
        {
          "output_type": "display_data",
          "data": {
            "text/plain": [
              "<Figure size 432x288 with 1 Axes>"
            ],
            "image/png": "[encoded data removed]"
          },
          "metadata": {}
        }
      ]
    },
    {
      "cell_type": "code",
      "source": [
        "#degree\n",
        "G.degree"
      ],
      "metadata": {
        "colab": {
          "base_uri": "https://localhost:8080/"
        },
        "id": "Kocv72GE75Yu",
        "outputId": "d9ac3d3a-8f7b-4b9e-d948-646b9a1c8262"
      },
      "execution_count": 10,
      "outputs": [
        {
          "output_type": "execute_result",
          "data": {
            "text/plain": [
              "DegreeView({'A': 1, 'B': 2, 'C': 2, 'D': 1})"
            ]
          },
          "metadata": {},
          "execution_count": 10
        }
      ]
    },
    {
      "cell_type": "code",
      "source": [
        "max(G, key=G.degree)"
      ],
      "metadata": {
        "colab": {
          "base_uri": "https://localhost:8080/",
          "height": 35
        },
        "id": "pBPn3oMQ8K28",
        "outputId": "94f10a9d-a4bf-4f79-e130-692df67dd95f"
      },
      "execution_count": 11,
      "outputs": [
        {
          "output_type": "execute_result",
          "data": {
            "text/plain": [
              "'B'"
            ],
            "application/vnd.google.colaboratory.intrinsic+json": {
              "type": "string"
            }
          },
          "metadata": {},
          "execution_count": 11
        }
      ]
    },
    {
      "cell_type": "code",
      "source": [
        "#neighbours\n",
        "list(G.neighbors(\"B\"))"
      ],
      "metadata": {
        "colab": {
          "base_uri": "https://localhost:8080/"
        },
        "id": "muOTBxni8QM2",
        "outputId": "c7bc7726-686d-4408-e970-0bbb94f6da1d"
      },
      "execution_count": 14,
      "outputs": [
        {
          "output_type": "execute_result",
          "data": {
            "text/plain": [
              "['A', 'C']"
            ]
          },
          "metadata": {},
          "execution_count": 14
        }
      ]
    },
    {
      "cell_type": "code",
      "source": [
        "#paths\n",
        "list(nx.all_simple_paths(G,\"A\",\"D\"))"
      ],
      "metadata": {
        "colab": {
          "base_uri": "https://localhost:8080/"
        },
        "id": "2llqW_JK8eT-",
        "outputId": "ee815267-4cdd-48ef-b3f4-bae2a873e821"
      },
      "execution_count": 15,
      "outputs": [
        {
          "output_type": "execute_result",
          "data": {
            "text/plain": [
              "[['A', 'B', 'C', 'D']]"
            ]
          },
          "metadata": {},
          "execution_count": 15
        }
      ]
    },
    {
      "cell_type": "code",
      "source": [
        "#remove edges\n",
        "G.remove_edge(\"A\",\"B\")\n",
        "\n",
        "pos = nx.spring_layout(G)\n",
        "nx.draw(G,pos, node_color = \"red\", node_size = 800, with_labels = True)"
      ],
      "metadata": {
        "colab": {
          "base_uri": "https://localhost:8080/",
          "height": 319
        },
        "id": "t34b01ZS86aT",
        "outputId": "289bde76-32e4-467b-ea0a-6761a7ce84bf"
      },
      "execution_count": 21,
      "outputs": [
        {
          "output_type": "display_data",
          "data": {
            "text/plain": [
              "<Figure size 432x288 with 1 Axes>"
            ],
            "image/png": "[encoded data removed]"
          },
          "metadata": {}
        }
      ]
    },
    {
      "cell_type": "code",
      "source": [
        " "
      ],
      "metadata": {
        "colab": {
          "base_uri": "https://localhost:8080/",
          "height": 319
        },
        "id": "kzJAxlRE9Xeq",
        "outputId": "a7524a06-0ec7-43ca-e6e1-21c47f2ecd19"
      },
      "execution_count": 27,
      "outputs": [
        {
          "output_type": "display_data",
          "data": {
            "text/plain": [
              "<Figure size 432x288 with 1 Axes>"
            ],
            "image/png": "[encoded data removed]"
          },
          "metadata": {}
        }
      ]
    },
    {
      "cell_type": "markdown",
      "source": [
        "### **Directed Graphs**"
      ],
      "metadata": {
        "id": "OmieCLqq9le5"
      }
    },
    {
      "cell_type": "code",
      "source": [
        "G = nx.DiGraph()\n",
        "G.add_edge(\"A\",\"B\")\n",
        "G.add_edge(\"C\",\"B\")\n",
        "G.add_edge(\"D\",\"B\")\n",
        "G.add_edge(\"A\",\"D\")\n",
        "\n",
        "pos = nx.spring_layout(G)\n",
        "nx.draw(G,pos, node_color = \"blue\", node_size = 800, with_labels = True)"
      ],
      "metadata": {
        "colab": {
          "base_uri": "https://localhost:8080/",
          "height": 319
        },
        "id": "WF3lL2hH9iWM",
        "outputId": "8d01d4c6-cc97-41e0-84a4-4063e636f618"
      },
      "execution_count": 38,
      "outputs": [
        {
          "output_type": "display_data",
          "data": {
            "text/plain": [
              "<Figure size 432x288 with 1 Axes>"
            ],
            "image/png": "[encoded data removed]"
          },
          "metadata": {}
        }
      ]
    },
    {
      "cell_type": "code",
      "source": [
        "#in-degree\n",
        "G.in_degree(\"B\")"
      ],
      "metadata": {
        "colab": {
          "base_uri": "https://localhost:8080/"
        },
        "id": "zSzA9OSu-lFL",
        "outputId": "98653e9f-00ca-4f84-f053-3cae28239fee"
      },
      "execution_count": 39,
      "outputs": [
        {
          "output_type": "execute_result",
          "data": {
            "text/plain": [
              "3"
            ]
          },
          "metadata": {},
          "execution_count": 39
        }
      ]
    },
    {
      "cell_type": "code",
      "source": [
        "nx.has_path(G,\"C\",\"A\")"
      ],
      "metadata": {
        "colab": {
          "base_uri": "https://localhost:8080/"
        },
        "id": "Fl2q-ASk-xnk",
        "outputId": "c4bcab79-8420-4286-bc3d-c294dae98782"
      },
      "execution_count": 40,
      "outputs": [
        {
          "output_type": "execute_result",
          "data": {
            "text/plain": [
              "False"
            ]
          },
          "metadata": {},
          "execution_count": 40
        }
      ]
    },
    {
      "cell_type": "code",
      "source": [
        "nx.shortest_path(G,\"A\",\"B\")"
      ],
      "metadata": {
        "colab": {
          "base_uri": "https://localhost:8080/"
        },
        "id": "xmlW1hhc-85T",
        "outputId": "c05f23ef-092c-4574-fcc6-1e7d0c4254fb"
      },
      "execution_count": 41,
      "outputs": [
        {
          "output_type": "execute_result",
          "data": {
            "text/plain": [
              "['A', 'B']"
            ]
          },
          "metadata": {},
          "execution_count": 41
        }
      ]
    },
    {
      "cell_type": "markdown",
      "source": [
        "### **Weighted Graph**"
      ],
      "metadata": {
        "id": "DGx3EacX_9il"
      }
    },
    {
      "cell_type": "code",
      "source": [
        "G = nx.DiGraph()\n",
        "G.add_edge(\"A\",\"B\",weight = 0.6)\n",
        "G.add_edge(\"C\",\"B\", weight = 0.8)\n",
        "G.add_edge(\"D\",\"B\",weight = 0.3)\n",
        "G.add_edge(\"A\",\"D\", weight = 0.2)\n",
        "\n",
        "pos = nx.spring_layout(G)\n",
        "nx.draw(G,pos, node_color = \"green\", node_size = 800, with_labels = True)"
      ],
      "metadata": {
        "colab": {
          "base_uri": "https://localhost:8080/",
          "height": 319
        },
        "id": "hhvXXb8FACUs",
        "outputId": "32b9a5e9-618f-4347-aa3c-92a44604a333"
      },
      "execution_count": 45,
      "outputs": [
        {
          "output_type": "display_data",
          "data": {
            "text/plain": [
              "<Figure size 432x288 with 1 Axes>"
            ],
            "image/png": "[encoded data removed]"
          },
          "metadata": {}
        }
      ]
    },
    {
      "cell_type": "code",
      "source": [
        "elarge = [(u,v) for (u,v,d) in G.edges(data = True) if d[\"weight\"] > 0.5]\n",
        "esmall = [(u,v) for (u,v,d) in G.edges(data = True) if d[\"weight\"] <= 0.5]\n",
        "\n",
        "print(elarge)\n",
        "print(esmall)"
      ],
      "metadata": {
        "colab": {
          "base_uri": "https://localhost:8080/"
        },
        "id": "uflzPC5YA1Ub",
        "outputId": "d532d001-a7ac-4744-9835-8db30469b6d4"
      },
      "execution_count": 47,
      "outputs": [
        {
          "output_type": "stream",
          "name": "stdout",
          "text": [
            "[('A', 'B'), ('C', 'B')]\n",
            "[('A', 'D'), ('D', 'B')]\n"
          ]
        }
      ]
    },
    {
      "cell_type": "code",
      "source": [
        "pos = nx.spring_layout(G, seed = 42)\n",
        "#render nodes\n",
        "nx.draw_networkx_nodes(G, pos)\n",
        "\n",
        "#render node labels\n",
        "nx.draw_networkx_labels(G, pos)\n",
        "\n",
        "#render edges\n",
        "nx.draw_networkx_edges(G, pos, edgelist = elarge , width = 6)\n",
        "nx.draw_networkx_edges(G, pos, edgelist = elarge , width = 6 ,alpha = 0.5 , style = \"dashed\")\n",
        "\n",
        "\n",
        "\n",
        "#render edge labels\n",
        "edge_lists = nx.get_edge_attributes(G,\"weight\")\n",
        "nx.draw_networkx_edge_labels(G, pos , edge_labels = edge_lists)\n"
      ],
      "metadata": {
        "colab": {
          "base_uri": "https://localhost:8080/",
          "height": 321
        },
        "id": "fgNbJOWNBjDl",
        "outputId": "f45d1022-8777-471f-e29a-7dcf27b40ab7"
      },
      "execution_count": 50,
      "outputs": [
        {
          "output_type": "execute_result",
          "data": {
            "text/plain": [
              "{('A', 'B'): Text(0.5383451768551147, 0.33943249463962977, '0.6'),\n",
              " ('A', 'D'): Text(-0.39200860961247863, 0.5069780834015296, '0.2'),\n",
              " ('C', 'B'): Text(0.3920086096124787, -0.5069780834015297, '0.8'),\n",
              " ('D', 'B'): Text(-0.06964621353240658, 0.020544086501049594, '0.3')}"
            ]
          },
          "metadata": {},
          "execution_count": 50
        },
        {
          "output_type": "display_data",
          "data": {
            "text/plain": [
              "<Figure size 432x288 with 1 Axes>"
            ],
            "image/png": "[encoded data removed]"
          },
          "metadata": {}
        }
      ]
    }
  ]
}