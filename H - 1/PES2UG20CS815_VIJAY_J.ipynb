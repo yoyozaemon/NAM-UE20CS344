{
  "nbformat": 4,
  "nbformat_minor": 0,
  "metadata": {
    "colab": {
      "provenance": []
    },
    "kernelspec": {
      "name": "python3",
      "display_name": "Python 3"
    },
    "language_info": {
      "name": "python"
    }
  },
  "cells": [
    {
      "cell_type": "markdown",
      "source": [
        "**Installing Networkx**"
      ],
      "metadata": {
        "id": "H9zTk_FY6ePq"
      }
    },
    {
      "cell_type": "code",
      "execution_count": 13,
      "metadata": {
        "colab": {
          "base_uri": "https://localhost:8080/"
        },
        "id": "IImPizEE5Hoa",
        "outputId": "fc925fe1-6d40-49e4-a090-b97c9c03f74e"
      },
      "outputs": [
        {
          "output_type": "stream",
          "name": "stdout",
          "text": [
            "Looking in indexes: https://pypi.org/simple, https://us-python.pkg.dev/colab-wheels/public/simple/\n",
            "Requirement already satisfied: networkx in /usr/local/lib/python3.8/dist-packages (3.0)\n"
          ]
        }
      ],
      "source": [
        "!pip install networkx"
      ]
    },
    {
      "cell_type": "markdown",
      "source": [
        "**Importing Library**"
      ],
      "metadata": {
        "id": "UCosBbzZ6mXA"
      }
    },
    {
      "cell_type": "code",
      "source": [
        "import networkx as nx"
      ],
      "metadata": {
        "id": "cDN7zYj-5VBn"
      },
      "execution_count": 14,
      "outputs": []
    },
    {
      "cell_type": "code",
      "source": [
        "print(nx.__version__)"
      ],
      "metadata": {
        "colab": {
          "base_uri": "https://localhost:8080/"
        },
        "id": "Bustk-0P58It",
        "outputId": "8cdfb3e3-f610-46f1-d438-70405cc20b95"
      },
      "execution_count": 15,
      "outputs": [
        {
          "output_type": "stream",
          "name": "stdout",
          "text": [
            "3.0\n"
          ]
        }
      ]
    },
    {
      "cell_type": "markdown",
      "source": [
        "### **Undirected Graph**"
      ],
      "metadata": {
        "id": "0FEyhOaY6sOQ"
      }
    },
    {
      "cell_type": "code",
      "source": [
        "G = nx.Graph()\n",
        "G.add_node(\"A\")\n",
        "G.add_node(\"B\")\n",
        "G.add_node(\"C\")\n",
        "G.add_node(\"D\")\n",
        "\n",
        "pos = nx.spring_layout(G)\n",
        "nx.draw(G,pos, node_color = \"red\", node_size = 800, with_labels = True)"
      ],
      "metadata": {
        "colab": {
          "base_uri": "https://localhost:8080/",
          "height": 319
        },
        "id": "o4XwooIW52DW",
        "outputId": "5bc0b265-cb14-4a8c-e152-bccccc3dc054"
      },
      "execution_count": 16,
      "outputs": [
        {
          "output_type": "display_data",
          "data": {
            "text/plain": [
              "<Figure size 432x288 with 1 Axes>"
            ],
            "image/png": "[encoded data removed]"
          },
          "metadata": {}
        }
      ]
    },
    {
      "cell_type": "code",
      "source": [
        "#adding edges\n",
        "G.add_edge(\"A\",\"B\")\n",
        "G.add_edge(\"B\",\"C\")\n",
        "G.add_edge(\"C\",\"D\")\n",
        "\n",
        "pos = nx.spring_layout(G)\n",
        "nx.draw(G,pos, node_color = \"red\", node_size = 800, with_labels = True)"
      ],
      "metadata": {
        "colab": {
          "base_uri": "https://localhost:8080/",
          "height": 319
        },
        "id": "N5B_VkLF7WDI",
        "outputId": "3a5969c1-89cc-467c-d1fd-72cd03e1e22c"
      },
      "execution_count": 17,
      "outputs": [
        {
          "output_type": "display_data",
          "data": {
            "text/plain": [
              "<Figure size 432x288 with 1 Axes>"
            ],
            "image/png": "[encoded data removed]"
          },
          "metadata": {}
        }
      ]
    },
    {
      "cell_type": "code",
      "source": [
        "#degree\n",
        "G.degree"
      ],
      "metadata": {
        "colab": {
          "base_uri": "https://localhost:8080/"
        },
        "id": "Kocv72GE75Yu",
        "outputId": "df9ca413-495c-477c-a44e-fe1a1ddd6fdf"
      },
      "execution_count": 18,
      "outputs": [
        {
          "output_type": "execute_result",
          "data": {
            "text/plain": [
              "DegreeView({'A': 1, 'B': 2, 'C': 2, 'D': 1})"
            ]
          },
          "metadata": {},
          "execution_count": 18
        }
      ]
    },
    {
      "cell_type": "code",
      "source": [
        "max(G, key=G.degree)"
      ],
      "metadata": {
        "colab": {
          "base_uri": "https://localhost:8080/",
          "height": 35
        },
        "id": "pBPn3oMQ8K28",
        "outputId": "a21c2c05-38ef-456c-e700-f65b679d0eea"
      },
      "execution_count": 19,
      "outputs": [
        {
          "output_type": "execute_result",
          "data": {
            "text/plain": [
              "'B'"
            ],
            "application/vnd.google.colaboratory.intrinsic+json": {
              "type": "string"
            }
          },
          "metadata": {},
          "execution_count": 19
        }
      ]
    },
    {
      "cell_type": "code",
      "source": [
        "#neighbours\n",
        "list(G.neighbors(\"B\"))"
      ],
      "metadata": {
        "colab": {
          "base_uri": "https://localhost:8080/"
        },
        "id": "muOTBxni8QM2",
        "outputId": "a194fb21-f714-4a57-d638-36de0f7a9833"
      },
      "execution_count": 20,
      "outputs": [
        {
          "output_type": "execute_result",
          "data": {
            "text/plain": [
              "['A', 'C']"
            ]
          },
          "metadata": {},
          "execution_count": 20
        }
      ]
    },
    {
      "cell_type": "code",
      "source": [
        "#paths\n",
        "list(nx.all_simple_paths(G,\"A\",\"D\"))"
      ],
      "metadata": {
        "colab": {
          "base_uri": "https://localhost:8080/"
        },
        "id": "2llqW_JK8eT-",
        "outputId": "7a6b208f-a352-4935-84bf-b132cf7efa6c"
      },
      "execution_count": 21,
      "outputs": [
        {
          "output_type": "execute_result",
          "data": {
            "text/plain": [
              "[['A', 'B', 'C', 'D']]"
            ]
          },
          "metadata": {},
          "execution_count": 21
        }
      ]
    },
    {
      "cell_type": "code",
      "source": [
        "#remove edges\n",
        "G.remove_edge(\"A\",\"B\")\n",
        "\n",
        "pos = nx.spring_layout(G)\n",
        "nx.draw(G,pos, node_color = \"red\", node_size = 800, with_labels = True)"
      ],
      "metadata": {
        "colab": {
          "base_uri": "https://localhost:8080/",
          "height": 319
        },
        "id": "t34b01ZS86aT",
        "outputId": "5fe0ae47-9412-4bc9-f8b5-41fd7b3ea047"
      },
      "execution_count": 22,
      "outputs": [
        {
          "output_type": "display_data",
          "data": {
            "text/plain": [
              "<Figure size 432x288 with 1 Axes>"
            ],
            "image/png": "[encoded data removed]"
          },
          "metadata": {}
        }
      ]
    },
    {
      "cell_type": "code",
      "source": [
        " #remove nodes\n",
        "G.remove_node(\"A\")\n",
        "\n",
        "pos = nx.spring_layout(G)\n",
        "nx.draw(G,pos, node_color = \"red\", node_size = 800, with_labels = True)"
      ],
      "metadata": {
        "colab": {
          "base_uri": "https://localhost:8080/",
          "height": 319
        },
        "id": "kzJAxlRE9Xeq",
        "outputId": "acb8ef66-5bf5-417a-de57-66651f6285a2"
      },
      "execution_count": 23,
      "outputs": [
        {
          "output_type": "display_data",
          "data": {
            "text/plain": [
              "<Figure size 432x288 with 1 Axes>"
            ],
            "image/png": "[encoded data removed]"
          },
          "metadata": {}
        }
      ]
    },
    {
      "cell_type": "markdown",
      "source": [
        "### **Directed Graphs**"
      ],
      "metadata": {
        "id": "OmieCLqq9le5"
      }
    },
    {
      "cell_type": "code",
      "source": [
        "G = nx.DiGraph()\n",
        "G.add_edge(\"A\",\"B\")\n",
        "G.add_edge(\"C\",\"B\")\n",
        "G.add_edge(\"D\",\"B\")\n",
        "G.add_edge(\"A\",\"D\")\n",
        "\n",
        "pos = nx.spring_layout(G)\n",
        "nx.draw(G,pos, node_color = \"blue\", node_size = 800, with_labels = True)"
      ],
      "metadata": {
        "colab": {
          "base_uri": "https://localhost:8080/",
          "height": 319
        },
        "id": "WF3lL2hH9iWM",
        "outputId": "cedd29dd-f4db-4947-e182-ae9a4f5d0def"
      },
      "execution_count": 24,
      "outputs": [
        {
          "output_type": "display_data",
          "data": {
            "text/plain": [
              "<Figure size 432x288 with 1 Axes>"
            ],
            "image/png": "[encoded data removed]"
          },
          "metadata": {}
        }
      ]
    },
    {
      "cell_type": "code",
      "source": [
        "#in-degree\n",
        "G.in_degree(\"B\")"
      ],
      "metadata": {
        "colab": {
          "base_uri": "https://localhost:8080/"
        },
        "id": "zSzA9OSu-lFL",
        "outputId": "aceec3b3-8220-4b92-d35b-19f07f3bed39"
      },
      "execution_count": 25,
      "outputs": [
        {
          "output_type": "execute_result",
          "data": {
            "text/plain": [
              "3"
            ]
          },
          "metadata": {},
          "execution_count": 25
        }
      ]
    },
    {
      "cell_type": "code",
      "source": [
        "nx.has_path(G,\"C\",\"A\")"
      ],
      "metadata": {
        "colab": {
          "base_uri": "https://localhost:8080/"
        },
        "id": "Fl2q-ASk-xnk",
        "outputId": "e3625523-96c1-485c-8778-c9f37c12edf8"
      },
      "execution_count": 26,
      "outputs": [
        {
          "output_type": "execute_result",
          "data": {
            "text/plain": [
              "False"
            ]
          },
          "metadata": {},
          "execution_count": 26
        }
      ]
    },
    {
      "cell_type": "code",
      "source": [
        "nx.shortest_path(G,\"A\",\"B\")"
      ],
      "metadata": {
        "colab": {
          "base_uri": "https://localhost:8080/"
        },
        "id": "xmlW1hhc-85T",
        "outputId": "bc094ee9-8c74-4a9d-8ede-d28657a75d89"
      },
      "execution_count": 27,
      "outputs": [
        {
          "output_type": "execute_result",
          "data": {
            "text/plain": [
              "['A', 'B']"
            ]
          },
          "metadata": {},
          "execution_count": 27
        }
      ]
    },
    {
      "cell_type": "markdown",
      "source": [
        "### **Weighted Graph**"
      ],
      "metadata": {
        "id": "DGx3EacX_9il"
      }
    },
    {
      "cell_type": "code",
      "source": [
        "G = nx.DiGraph()\n",
        "G.add_edge(\"A\",\"B\",weight = 0.6)\n",
        "G.add_edge(\"C\",\"B\", weight = 0.8)\n",
        "G.add_edge(\"D\",\"B\",weight = 0.3)\n",
        "G.add_edge(\"A\",\"D\", weight = 0.2)\n",
        "\n",
        "pos = nx.spring_layout(G)\n",
        "nx.draw(G,pos, node_color = \"green\", node_size = 800, with_labels = True)"
      ],
      "metadata": {
        "colab": {
          "base_uri": "https://localhost:8080/",
          "height": 319
        },
        "id": "hhvXXb8FACUs",
        "outputId": "a96db627-9996-4b99-a4f5-1680b5a23491"
      },
      "execution_count": 28,
      "outputs": [
        {
          "output_type": "display_data",
          "data": {
            "text/plain": [
              "<Figure size 432x288 with 1 Axes>"
            ],
            "image/png": "[encoded data removed]"
          },
          "metadata": {}
        }
      ]
    },
    {
      "cell_type": "code",
      "source": [
        "elarge = [(u,v) for (u,v,d) in G.edges(data = True) if d[\"weight\"] > 0.5]\n",
        "esmall = [(u,v) for (u,v,d) in G.edges(data = True) if d[\"weight\"] <= 0.5]\n",
        "\n",
        "print(elarge)\n",
        "print(esmall)"
      ],
      "metadata": {
        "colab": {
          "base_uri": "https://localhost:8080/"
        },
        "id": "uflzPC5YA1Ub",
        "outputId": "1a716359-8b44-41e8-84bd-083f366c8bd9"
      },
      "execution_count": 29,
      "outputs": [
        {
          "output_type": "stream",
          "name": "stdout",
          "text": [
            "[('A', 'B'), ('C', 'B')]\n",
            "[('A', 'D'), ('D', 'B')]\n"
          ]
        }
      ]
    },
    {
      "cell_type": "code",
      "source": [
        "pos = nx.spring_layout(G, seed = 42)\n",
        "#render nodes\n",
        "nx.draw_networkx_nodes(G, pos)\n",
        "\n",
        "#render node labels\n",
        "nx.draw_networkx_labels(G, pos)\n",
        "\n",
        "#render edges\n",
        "nx.draw_networkx_edges(G, pos, edgelist = elarge , width = 6)\n",
        "nx.draw_networkx_edges(G, pos, edgelist = elarge , width = 6 ,alpha = 0.5 , style = \"dashed\")\n",
        "\n",
        "\n",
        "\n",
        "#render edge labels\n",
        "edge_lists = nx.get_edge_attributes(G,\"weight\")\n",
        "nx.draw_networkx_edge_labels(G, pos , edge_labels = edge_lists)\n"
      ],
      "metadata": {
        "colab": {
          "base_uri": "https://localhost:8080/",
          "height": 321
        },
        "id": "fgNbJOWNBjDl",
        "outputId": "5e6b0a9d-f274-443a-c6cf-9a26896b1574"
      },
      "execution_count": 30,
      "outputs": [
        {
          "output_type": "execute_result",
          "data": {
            "text/plain": [
              "{('A', 'B'): Text(0.5383451768551147, 0.33943249463962977, '0.6'),\n",
              " ('A', 'D'): Text(-0.39200860961247863, 0.5069780834015296, '0.2'),\n",
              " ('C', 'B'): Text(0.3920086096124787, -0.5069780834015297, '0.8'),\n",
              " ('D', 'B'): Text(-0.06964621353240658, 0.020544086501049594, '0.3')}"
            ]
          },
          "metadata": {},
          "execution_count": 30
        },
        {
          "output_type": "display_data",
          "data": {
            "text/plain": [
              "<Figure size 432x288 with 1 Axes>"
            ],
            "image/png": "[encoded data removed]"
          },
          "metadata": {}
        }
      ]
    }
  ]
}